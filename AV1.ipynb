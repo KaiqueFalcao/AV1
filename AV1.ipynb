{
 "cells": [
  {
   "cell_type": "markdown",
   "id": "78f33833",
   "metadata": {},
   "source": [
    "# Exercício 1\n",
    "\n",
    "> Um projétil é lançado verticalmente para cima, a partir do solo, com velocidade inicial ($v_0$ em m/s). O projétil está sujeito apenas à gravidade ($g = 9,8$ m/s²). Para personalizar o exercício, cada aluno deve calcular a altura máxima atingida pelo projétil usando como valor de $v_0$ a soma dos dígitos do seu RA multiplicada por 2.\n",
    "\n",
    "**Tarefas:**\n",
    "- Solicite ao usuário o número do RA.\n",
    "- Calcule a soma dos dígitos do RA.\n",
    "- Defina $v_0$ (soma dos dígitos do RA multiplicada por 2).\n",
    "- Calcule e imprima a altura máxima atingida pelo projétil usando a expressão:  \n",
    "$h_{max} = \\frac{v_0^2}{2g}$\n",
    "- Mostre o valor de $v_0$ utilizado e a altura máxima calculada."
   ]
  },
  {
   "cell_type": "markdown",
   "id": "c18b085b",
   "metadata": {},
   "source": [
    "![alt text](DiagramaAV1.jpeg)"
   ]
  },
  {
   "cell_type": "code",
   "execution_count": 14,
   "id": "64c9659c",
   "metadata": {},
   "outputs": [
    {
     "name": "stdout",
     "output_type": "stream",
     "text": [
      "RA: 11201920606\n",
      "Soma dos dígitos do RA: 28\n",
      "Valor de v0 utilizado: 56 m/s\n",
      "Altura máxima atingida: 160.00 m\n"
     ]
    }
   ],
   "source": [
    "# Input de RA\n",
    "ra = input(\"Digite o número do seu RA: \")\n",
    "\n",
    "# Calcula a soma dos dígitos do RA\n",
    "soma_digitos = sum(int(digito) for digito in ra if digito.isdigit())\n",
    "\n",
    "# Calcula v0\n",
    "v0 = soma_digitos * 2\n",
    "\n",
    "g = 9.8\n",
    "\n",
    "# Calcula a altura máxima\n",
    "hmax = v0 ** 2 / (2 * g)\n",
    "\n",
    "# Mostra os resultados\n",
    "print(f\"RA: {ra}\")\n",
    "print(f\"Soma dos dígitos do RA: {soma_digitos}\")\n",
    "print(f\"Valor de v0 utilizado: {v0} m/s\")\n",
    "print(f\"Altura máxima atingida: {hmax:.2f} m\")"
   ]
  }
 ],
 "metadata": {
  "kernelspec": {
   "display_name": "base",
   "language": "python",
   "name": "python3"
  },
  "language_info": {
   "codemirror_mode": {
    "name": "ipython",
    "version": 3
   },
   "file_extension": ".py",
   "mimetype": "text/x-python",
   "name": "python",
   "nbconvert_exporter": "python",
   "pygments_lexer": "ipython3",
   "version": "3.12.7"
  }
 },
 "nbformat": 4,
 "nbformat_minor": 5
}
